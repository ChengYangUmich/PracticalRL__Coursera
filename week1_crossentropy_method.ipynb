{
  "nbformat": 4,
  "nbformat_minor": 0,
  "metadata": {
    "colab": {
      "name": "“crossentropy_method.ipynb”的副本",
      "provenance": [],
      "include_colab_link": true
    },
    "kernelspec": {
      "name": "python3",
      "display_name": "Python 3"
    }
  },
  "cells": [
    {
      "cell_type": "markdown",
      "metadata": {
        "id": "view-in-github",
        "colab_type": "text"
      },
      "source": [
        "<a href=\"https://colab.research.google.com/github/ChengYangUmich/PracticalRL__Coursera/blob/master/week1_crossentropy_method.ipynb\" target=\"_parent\"><img src=\"https://colab.research.google.com/assets/colab-badge.svg\" alt=\"Open In Colab\"/></a>"
      ]
    },
    {
      "cell_type": "markdown",
      "metadata": {
        "id": "YWGA8kdO3eaD",
        "colab_type": "text"
      },
      "source": [
        "# Crossentropy method\n",
        "\n",
        "This notebook will teach you to solve reinforcement learning problems with crossentropy method. We'll follow-up by scaling everything up and using neural network policy."
      ]
    },
    {
      "cell_type": "code",
      "metadata": {
        "id": "hfAERyD03eaE",
        "colab_type": "code",
        "colab": {
          "base_uri": "https://localhost:8080/",
          "height": 35
        },
        "outputId": "2fb4ab2e-8700-478c-ce00-23f47dc8af27"
      },
      "source": [
        "import sys, os\n",
        "if 'google.colab' in sys.modules and not os.path.exists('.setup_complete'):\n",
        "    !wget -q https://raw.githubusercontent.com/yandexdataschool/Practical_RL/spring20/setup_colab.sh -O- | bash\n",
        "\n",
        "    !wget -q https://raw.githubusercontent.com/yandexdataschool/Practical_RL/coursera/grading.py -O ../grading.py\n",
        "    !wget -q https://raw.githubusercontent.com/yandexdataschool/Practical_RL/coursera/week1_intro/submit.py\n",
        "\n",
        "    !touch .setup_complete\n",
        "\n",
        "# This code creates a virtual display to draw game images on.\n",
        "# It will have no effect if your machine has a monitor.\n",
        "if type(os.environ.get(\"DISPLAY\")) is not str or len(os.environ.get(\"DISPLAY\")) == 0:\n",
        "    !bash ../xvfb start\n",
        "    os.environ['DISPLAY'] = ':1'"
      ],
      "execution_count": null,
      "outputs": [
        {
          "output_type": "stream",
          "text": [
            "Starting virtual X frame buffer: Xvfb.\n"
          ],
          "name": "stdout"
        }
      ]
    },
    {
      "cell_type": "code",
      "metadata": {
        "id": "uVYqMwCu3eaI",
        "colab_type": "code",
        "colab": {
          "base_uri": "https://localhost:8080/",
          "height": 161
        },
        "outputId": "d2862565-d5cd-4d08-98fc-44fa7c295daf"
      },
      "source": [
        "import gym\n",
        "import numpy as np\n",
        "\n",
        "try:\n",
        "    env = gym.make('Taxi-v3')\n",
        "except gym.error.DeprecatedEnv:\n",
        "    # Taxi-v2 was replaced with Taxi-v3 in gym 0.15.0\n",
        "    env = gym.make('Taxi-v2')\n",
        "\n",
        "env.reset()\n",
        "env.render()"
      ],
      "execution_count": null,
      "outputs": [
        {
          "output_type": "stream",
          "text": [
            "+---------+\n",
            "|\u001b[34;1mR\u001b[0m: | : :G|\n",
            "| : | : : |\n",
            "| : : : : |\n",
            "| | : | : |\n",
            "|Y| :\u001b[43m \u001b[0m|\u001b[35mB\u001b[0m: |\n",
            "+---------+\n",
            "\n"
          ],
          "name": "stdout"
        }
      ]
    },
    {
      "cell_type": "code",
      "metadata": {
        "id": "1OIfOFuG3eaL",
        "colab_type": "code",
        "colab": {
          "base_uri": "https://localhost:8080/",
          "height": 35
        },
        "outputId": "514e25ef-4498-41ee-8a92-831da1b88b04"
      },
      "source": [
        "n_states = env.observation_space.n\n",
        "n_actions = env.action_space.n\n",
        "\n",
        "print(\"n_states=%i, n_actions=%i\" % (n_states, n_actions))"
      ],
      "execution_count": null,
      "outputs": [
        {
          "output_type": "stream",
          "text": [
            "n_states=500, n_actions=6\n"
          ],
          "name": "stdout"
        }
      ]
    },
    {
      "cell_type": "markdown",
      "metadata": {
        "id": "dZHFFtq43eaN",
        "colab_type": "text"
      },
      "source": [
        "# Create stochastic policy\n",
        "\n",
        "This time our policy should be a probability distribution.\n",
        "\n",
        "```policy[s,a] = P(take action a | in state s)```\n",
        "\n",
        "Since we still use integer state and action representations, you can use a 2-dimensional array to represent the policy.\n",
        "\n",
        "Please initialize the policy __uniformly__, that is, probabililities of all actions should be equal."
      ]
    },
    {
      "cell_type": "code",
      "metadata": {
        "id": "fpEp5e2A3eaO",
        "colab_type": "code",
        "colab": {}
      },
      "source": [
        "def initialize_policy(n_states, n_actions):\n",
        "    policy = np.ones((n_states,n_actions))\n",
        "    policy = policy* 1./n_actions \n",
        "    return policy\n",
        "\n",
        "policy = initialize_policy(n_states, n_actions)"
      ],
      "execution_count": null,
      "outputs": []
    },
    {
      "cell_type": "code",
      "metadata": {
        "id": "SMZX57TJ4b_Y",
        "colab_type": "code",
        "colab": {
          "base_uri": "https://localhost:8080/",
          "height": 35
        },
        "outputId": "4230647d-27ce-4347-c9c3-ec999a76d133"
      },
      "source": [
        "print(np.random.choice(np.size(policy,1)))"
      ],
      "execution_count": null,
      "outputs": [
        {
          "output_type": "stream",
          "text": [
            "4\n"
          ],
          "name": "stdout"
        }
      ]
    },
    {
      "cell_type": "code",
      "metadata": {
        "id": "qQb0EkeU3eaQ",
        "colab_type": "code",
        "colab": {}
      },
      "source": [
        "assert type(policy) in (np.ndarray, np.matrix)\n",
        "assert np.allclose(policy, 1./n_actions)\n",
        "assert np.allclose(np.sum(policy, axis=1), 1)"
      ],
      "execution_count": null,
      "outputs": []
    },
    {
      "cell_type": "markdown",
      "metadata": {
        "id": "w2MZtdrw3eaT",
        "colab_type": "text"
      },
      "source": [
        "# Play the game\n",
        "\n",
        "Just like before, but we also record all states and actions we took."
      ]
    },
    {
      "cell_type": "code",
      "metadata": {
        "id": "GcOH3jj53eaU",
        "colab_type": "code",
        "colab": {}
      },
      "source": [
        "def generate_session(env, policy, t_max=10**4):\n",
        "    \"\"\"\n",
        "    Play game until end or for t_max ticks.\n",
        "    :param policy: an array of shape [n_states,n_actions] with action probabilities\n",
        "    :returns: list of states, list of actions and sum of rewards\n",
        "    \"\"\"\n",
        "    states, actions = [], []\n",
        "    total_reward = 0.\n",
        "\n",
        "    s = env.reset()\n",
        "\n",
        "    for t in range(t_max):\n",
        "        # Hint: you can use np.random.choice for sampling action\n",
        "        # https://numpy.org/doc/stable/reference/random/generated/numpy.random.choice.html\n",
        "        a = np.random.choice(n_actions,1, p=policy[s])[0]\n",
        "\n",
        "        new_s, r, done, info = env.step(a)\n",
        "\n",
        "        # Record information we just got from the environment.\n",
        "        states.append(s)\n",
        "        actions.append(a)\n",
        "        total_reward += r\n",
        "\n",
        "        s = new_s\n",
        "        if done:\n",
        "            break\n",
        "\n",
        "    return states, actions, total_reward"
      ],
      "execution_count": null,
      "outputs": []
    },
    {
      "cell_type": "code",
      "metadata": {
        "id": "xHt3IVL63eaW",
        "colab_type": "code",
        "colab": {}
      },
      "source": [
        "s, a, r = generate_session(env, policy)\n",
        "assert type(s) == type(a) == list\n",
        "assert len(s) == len(a)\n",
        "assert type(r) in [float, np.float]"
      ],
      "execution_count": null,
      "outputs": []
    },
    {
      "cell_type": "code",
      "metadata": {
        "id": "QTveL4FF3eab",
        "colab_type": "code",
        "colab": {
          "base_uri": "https://localhost:8080/",
          "height": 283
        },
        "outputId": "af44fa25-a10c-40be-c5ec-6a459e1b3de8"
      },
      "source": [
        "# let's see the initial reward distribution\n",
        "import matplotlib.pyplot as plt\n",
        "%matplotlib inline\n",
        "\n",
        "sample_rewards = [generate_session(env, policy, t_max=1000)[-1] for _ in range(200)]\n",
        "\n",
        "plt.hist(sample_rewards, bins=20)\n",
        "plt.vlines([np.percentile(sample_rewards, 50)], [0], [100], label=\"50'th percentile\", color='green')\n",
        "plt.vlines([np.percentile(sample_rewards, 90)], [0], [100], label=\"90'th percentile\", color='red')\n",
        "plt.legend()"
      ],
      "execution_count": null,
      "outputs": [
        {
          "output_type": "execute_result",
          "data": {
            "text/plain": [
              "<matplotlib.legend.Legend at 0x7f2b236ba9b0>"
            ]
          },
          "metadata": {
            "tags": []
          },
          "execution_count": 9
        },
        {
          "output_type": "display_data",
          "data": {
            "image/png": "[encoded data removed]",
            "text/plain": [
              "<Figure size 432x288 with 1 Axes>"
            ]
          },
          "metadata": {
            "tags": [],
            "needs_background": "light"
          }
        }
      ]
    },
    {
      "cell_type": "markdown",
      "metadata": {
        "id": "ZqCOYgZ_3eae",
        "colab_type": "text"
      },
      "source": [
        "### Crossentropy method steps"
      ]
    },
    {
      "cell_type": "code",
      "metadata": {
        "id": "A-HBjztn3eaf",
        "colab_type": "code",
        "colab": {}
      },
      "source": [
        "def select_elites(states_batch, actions_batch, rewards_batch, percentile):\n",
        "    \"\"\"\n",
        "    Select states and actions from games that have rewards >= percentile\n",
        "    :param states_batch: list of lists of states, states_batch[session_i][t]\n",
        "    :param actions_batch: list of lists of actions, actions_batch[session_i][t]\n",
        "    :param rewards_batch: list of rewards, rewards_batch[session_i]\n",
        "\n",
        "    :returns: elite_states,elite_actions, both 1D lists of states and respective actions from elite sessions\n",
        "\n",
        "    Please return elite states and actions in their original order \n",
        "    [i.e. sorted by session number and timestep within session]\n",
        "\n",
        "    If you are confused, see examples below. Please don't assume that states are integers\n",
        "    (they will become different later).\n",
        "    \"\"\"\n",
        "\n",
        "    reward_threshold = np.percentile(rewards_batch,percentile) # <YOUR CODE: compute minimum reward for elite sessions. Hint: use np.percentile()>\n",
        "\n",
        "    elite_index= np.arange(len(rewards_batch))[rewards_batch >= reward_threshold]\n",
        "    elite_states = []\n",
        "    elite_actions = []\n",
        "    for i in elite_index:\n",
        "      for j in states_batch[i]:\n",
        "        elite_states.append(j)\n",
        "      for k in actions_batch[i]:\n",
        "        elite_actions.append(k)\n",
        "\n",
        "    return elite_states, elite_actions"
      ],
      "execution_count": null,
      "outputs": []
    },
    {
      "cell_type": "code",
      "metadata": {
        "id": "wD8a0uce8VZl",
        "colab_type": "code",
        "colab": {}
      },
      "source": [
        ""
      ],
      "execution_count": null,
      "outputs": []
    },
    {
      "cell_type": "code",
      "metadata": {
        "id": "L--8wPBW3eah",
        "colab_type": "code",
        "colab": {
          "base_uri": "https://localhost:8080/",
          "height": 35
        },
        "outputId": "c89a2001-52cf-4f28-9938-b8d480239016"
      },
      "source": [
        "states_batch = [\n",
        "    [1, 2, 3],     # game1\n",
        "    [4, 2, 0, 2],  # game2\n",
        "    [3, 1],        # game3\n",
        "]\n",
        "\n",
        "actions_batch = [\n",
        "    [0, 2, 4],     # game1\n",
        "    [3, 2, 0, 1],  # game2\n",
        "    [3, 3],        # game3\n",
        "]\n",
        "rewards_batch = [\n",
        "    3,  # game1\n",
        "    4,  # game2\n",
        "    5,  # game3\n",
        "]\n",
        "\n",
        "test_result_0 = select_elites(states_batch, actions_batch, rewards_batch, percentile=0)\n",
        "test_result_30 = select_elites(states_batch, actions_batch, rewards_batch, percentile=30)\n",
        "test_result_90 = select_elites(states_batch, actions_batch, rewards_batch, percentile=90)\n",
        "test_result_100 = select_elites(states_batch, actions_batch, rewards_batch, percentile=100)\n",
        "\n",
        "assert np.all(test_result_0[0] == [1, 2, 3, 4, 2, 0, 2, 3, 1])  \\\n",
        "    and np.all(test_result_0[1] == [0, 2, 4, 3, 2, 0, 1, 3, 3]), \\\n",
        "    \"For percentile 0 you should return all states and actions in chronological order\"\n",
        "assert np.all(test_result_30[0] == [4, 2, 0, 2, 3, 1]) and \\\n",
        "    np.all(test_result_30[1] == [3, 2, 0, 1, 3, 3]), \\\n",
        "    \"For percentile 30 you should only select states/actions from two first\"\n",
        "assert np.all(test_result_90[0] == [3, 1]) and \\\n",
        "    np.all(test_result_90[1] == [3, 3]), \\\n",
        "    \"For percentile 90 you should only select states/actions from one game\"\n",
        "assert np.all(test_result_100[0] == [3, 1]) and\\\n",
        "    np.all(test_result_100[1] == [3, 3]), \\\n",
        "    \"Please make sure you use >=, not >. Also double-check how you compute percentile.\"\n",
        "\n",
        "print(\"Ok!\")"
      ],
      "execution_count": null,
      "outputs": [
        {
          "output_type": "stream",
          "text": [
            "Ok!\n"
          ],
          "name": "stdout"
        }
      ]
    },
    {
      "cell_type": "code",
      "metadata": {
        "id": "pebGd4A83eaj",
        "colab_type": "code",
        "colab": {}
      },
      "source": [
        "def update_policy(elite_states, elite_actions):\n",
        "    \"\"\"\n",
        "    Given old policy and a list of elite states/actions from select_elites,\n",
        "    return new updated policy where each action probability is proportional to\n",
        "\n",
        "    policy[s_i,a_i] ~ #[occurences of si and ai in elite states/actions]\n",
        "\n",
        "    Don't forget to normalize policy to get valid probabilities and handle 0/0 case.\n",
        "    In case you never visited a state, set probabilities for all actions to 1./n_actions\n",
        "\n",
        "    :param elite_states: 1D list of states from elite sessions\n",
        "    :param elite_actions: 1D list of actions from elite sessions\n",
        "\n",
        "    \"\"\"\n",
        "\n",
        "    new_policy = np.zeros([n_states, n_actions])\n",
        "\n",
        "    # <YOUR CODE: update probabilities for actions given elite states & actions>\n",
        "    for i in range(len(elite_actions)):\n",
        "      new_policy[elite_states[i],elite_actions[i]] += 1\n",
        "    for i, a_row in enumerate(new_policy):\n",
        "      temp1 = np.sum(a_row)\n",
        "      if temp1 == 0:\n",
        "        new_policy[i,:] = 1./n_actions\n",
        "      else:\n",
        "        new_policy[i,:] = new_policy[i,:]*1.0/temp1\n",
        "    return new_policy"
      ],
      "execution_count": null,
      "outputs": []
    },
    {
      "cell_type": "code",
      "metadata": {
        "id": "iQTbplqsFswJ",
        "colab_type": "code",
        "colab": {}
      },
      "source": [
        ""
      ],
      "execution_count": null,
      "outputs": []
    },
    {
      "cell_type": "code",
      "metadata": {
        "id": "f7hNzaEc3eal",
        "colab_type": "code",
        "colab": {
          "base_uri": "https://localhost:8080/",
          "height": 35
        },
        "outputId": "5093ce40-ded5-4788-cc65-08cf169f09ad"
      },
      "source": [
        "elite_states = [1, 2, 3, 4, 2, 0, 2, 3, 1]\n",
        "elite_actions = [0, 2, 4, 3, 2, 0, 1, 3, 3]\n",
        "\n",
        "new_policy = update_policy(elite_states, elite_actions)\n",
        "\n",
        "assert np.isfinite(new_policy).all(), \\\n",
        "    \"Your new policy contains NaNs or +-inf. Make sure you don't divide by zero.\"\n",
        "assert np.all(new_policy >= 0), \\\n",
        "    \"Your new policy can't have negative action probabilities\"\n",
        "assert np.allclose(new_policy.sum(axis=-1), 1), \\\n",
        "    \"Your new policy should be a valid probability distribution over actions\"\n",
        "\n",
        "reference_answer = np.array([\n",
        "    [1.,  0.,  0.,  0.,  0.],\n",
        "    [0.5,  0.,  0.,  0.5,  0.],\n",
        "    [0.,  0.33333333,  0.66666667,  0.,  0.],\n",
        "    [0.,  0.,  0.,  0.5,  0.5]])\n",
        "\n",
        "assert np.allclose(new_policy[:4, :5], reference_answer)\n",
        "\n",
        "print(\"Ok!\")"
      ],
      "execution_count": null,
      "outputs": [
        {
          "output_type": "stream",
          "text": [
            "Ok!\n"
          ],
          "name": "stdout"
        }
      ]
    },
    {
      "cell_type": "markdown",
      "metadata": {
        "id": "x_gMpDAU3ean",
        "colab_type": "text"
      },
      "source": [
        "# Training loop\n",
        "Generate sessions, select N best and fit to those."
      ]
    },
    {
      "cell_type": "code",
      "metadata": {
        "id": "tBi-h2zF3ean",
        "colab_type": "code",
        "colab": {}
      },
      "source": [
        "from IPython.display import clear_output\n",
        "\n",
        "def show_progress(rewards_batch, log, percentile, reward_range=[-990, +10]):\n",
        "    \"\"\"\n",
        "    A convenience function that displays training progress. \n",
        "    No cool math here, just charts.\n",
        "    \"\"\"\n",
        "\n",
        "    mean_reward = np.mean(rewards_batch)\n",
        "    threshold = np.percentile(rewards_batch, percentile)\n",
        "    log.append([mean_reward, threshold])\n",
        "    \n",
        "    plt.figure(figsize=[8, 4])\n",
        "    plt.subplot(1, 2, 1)\n",
        "    plt.plot(list(zip(*log))[0], label='Mean rewards')\n",
        "    plt.plot(list(zip(*log))[1], label='Reward thresholds')\n",
        "    plt.legend()\n",
        "    plt.grid()\n",
        "\n",
        "    plt.subplot(1, 2, 2)\n",
        "    plt.hist(rewards_batch, range=reward_range)\n",
        "    plt.vlines([np.percentile(rewards_batch, percentile)],\n",
        "               [0], [100], label=\"percentile\", color='red')\n",
        "    plt.legend()\n",
        "    plt.grid()\n",
        "    clear_output(True)\n",
        "    print(\"mean reward = %.3f, threshold=%.3f\" % (mean_reward, threshold))\n",
        "    plt.show()"
      ],
      "execution_count": null,
      "outputs": []
    },
    {
      "cell_type": "code",
      "metadata": {
        "id": "2XqSUZ163eaq",
        "colab_type": "code",
        "colab": {}
      },
      "source": [
        "# reset policy just in case\n",
        "policy = initialize_policy(n_states, n_actions)"
      ],
      "execution_count": null,
      "outputs": []
    },
    {
      "cell_type": "code",
      "metadata": {
        "id": "PwTQ43tdNQFQ",
        "colab_type": "code",
        "colab": {}
      },
      "source": [
        ""
      ],
      "execution_count": null,
      "outputs": []
    },
    {
      "cell_type": "code",
      "metadata": {
        "id": "IppE0kLz3eas",
        "colab_type": "code",
        "colab": {
          "base_uri": "https://localhost:8080/",
          "height": 283
        },
        "outputId": "17ad8e3c-395b-4099-f947-c6558d9ff5c3"
      },
      "source": [
        "n_sessions = 250     # sample this many sessions\n",
        "percentile = 50      # take this percent of session with highest rewards\n",
        "learning_rate = 0.5  # how quickly the policy is updated, on a scale from 0 to 1\n",
        "\n",
        "log = []\n",
        "\n",
        "for i in range(100):\n",
        "    %time sessions = [generate_session(env, policy, t_max=10**4) for _ in range(n_sessions)] #[ <YOUR CODE: generate a list of n_sessions new sessions> ]\n",
        "    \n",
        "    states_batch, actions_batch, rewards_batch = zip(*sessions)\n",
        "\n",
        "    elite_states, elite_actions = select_elites(states_batch, actions_batch, rewards_batch, percentile)\n",
        "\n",
        "    new_policy = update_policy(elite_states, elite_actions)\n",
        "\n",
        "    policy = learning_rate * new_policy + (1 - learning_rate) * policy\n",
        "\n",
        "    # display results on chart\n",
        "    show_progress(rewards_batch, log, percentile)"
      ],
      "execution_count": null,
      "outputs": [
        {
          "output_type": "stream",
          "text": [
            "mean reward = -94.452, threshold=6.000\n"
          ],
          "name": "stdout"
        },
        {
          "output_type": "display_data",
          "data": {
            "image/png": "[encoded data removed]",
            "text/plain": [
              "<Figure size 576x288 with 2 Axes>"
            ]
          },
          "metadata": {
            "tags": [],
            "needs_background": "light"
          }
        }
      ]
    },
    {
      "cell_type": "code",
      "metadata": {
        "id": "ZvYylEY1SPz2",
        "colab_type": "code",
        "colab": {
          "base_uri": "https://localhost:8080/",
          "height": 73
        },
        "outputId": "56468e81-8c36-41d7-fabd-fe887ffebecc"
      },
      "source": [
        "\n"
      ],
      "execution_count": null,
      "outputs": [
        {
          "output_type": "stream",
          "text": [
            "[([426, 426, 426, 446, 446, 446, 346, 246, 146, 146, 146, 46, 46, 46, 46, 66, 166, 166, 146, 146, 166, 266, 366, 386, 486, 486, 486, 486, 466, 466, 466, 466, 466, 466, 466, 466, 486, 486, 466, 366, 466, 466, 466, 466, 366, 366, 366, 266, 246, 246, 346, 246, 146, 46, 46, 46, 46, 46, 146, 246, 246, 246, 246, 246, 146, 46, 66, 66, 166, 66, 86, 86, 98, 86, 86, 86, 86, 86, 86, 98, 198, 98, 98, 98, 78, 78, 78, 58, 78, 98, 98, 198, 198, 198, 198, 298, 298, 298, 198, 198, 198, 298, 298, 298, 398, 398, 498, 498, 498, 498, 478, 378, 278, 258, 238, 218, 318, 418], [5, 5, 2, 5, 4, 1, 1, 1, 3, 3, 1, 5, 5, 5, 2, 0, 5, 3, 5, 2, 0, 0, 2, 0, 4, 0, 5, 3, 5, 4, 0, 5, 3, 5, 0, 2, 0, 3, 1, 0, 4, 3, 3, 1, 5, 5, 1, 3, 5, 0, 1, 1, 1, 1, 3, 3, 5, 0, 0, 4, 5, 4, 5, 1, 1, 2, 1, 0, 1, 2, 1, 4, 5, 1, 1, 1, 5, 1, 4, 0, 1, 4, 1, 3, 5, 5, 3, 2, 2, 2, 0, 5, 5, 4, 0, 4, 2, 1, 4, 4, 0, 5, 2, 0, 4, 0, 5, 4, 0, 3, 1, 1, 3, 3, 3, 0, 0, 5], -439.0), ([426, 426, 426, 446, 446, 446, 346, 246, 146, 146, 146, 46, 46, 46, 46, 66, 166, 166, 146, 146, 166, 266, 366, 386, 486, 486, 486, 486, 466, 466, 466, 466, 466, 466, 466, 466, 486, 486, 466, 366, 466, 466, 466, 466, 366, 366, 366, 266, 246, 246, 346, 246, 146, 46, 46, 46, 46, 46, 146, 246, 246, 246, 246, 246, 146, 46, 66, 66, 166, 66, 86, 86, 98, 86, 86, 86, 86, 86, 86, 98, 198, 98, 98, 98, 78, 78, 78, 58, 78, 98, 98, 198, 198, 198, 198, 298, 298, 298, 198, 198, 198, 298, 298, 298, 398, 398, 498, 498, 498, 498, 478, 378, 278, 258, 238, 218, 318, 418], [5, 5, 2, 5, 4, 1, 1, 1, 3, 3, 1, 5, 5, 5, 2, 0, 5, 3, 5, 2, 0, 0, 2, 0, 4, 0, 5, 3, 5, 4, 0, 5, 3, 5, 0, 2, 0, 3, 1, 0, 4, 3, 3, 1, 5, 5, 1, 3, 5, 0, 1, 1, 1, 1, 3, 3, 5, 0, 0, 4, 5, 4, 5, 1, 1, 2, 1, 0, 1, 2, 1, 4, 5, 1, 1, 1, 5, 1, 4, 0, 1, 4, 1, 3, 5, 5, 3, 2, 2, 2, 0, 5, 5, 4, 0, 4, 2, 1, 4, 4, 0, 5, 2, 0, 4, 0, 5, 4, 0, 3, 1, 1, 3, 3, 3, 0, 0, 5], -439.0), ([426, 426, 426, 446, 446, 446, 346, 246, 146, 146, 146, 46, 46, 46, 46, 66, 166, 166, 146, 146, 166, 266, 366, 386, 486, 486, 486, 486, 466, 466, 466, 466, 466, 466, 466, 466, 486, 486, 466, 366, 466, 466, 466, 466, 366, 366, 366, 266, 246, 246, 346, 246, 146, 46, 46, 46, 46, 46, 146, 246, 246, 246, 246, 246, 146, 46, 66, 66, 166, 66, 86, 86, 98, 86, 86, 86, 86, 86, 86, 98, 198, 98, 98, 98, 78, 78, 78, 58, 78, 98, 98, 198, 198, 198, 198, 298, 298, 298, 198, 198, 198, 298, 298, 298, 398, 398, 498, 498, 498, 498, 478, 378, 278, 258, 238, 218, 318, 418], [5, 5, 2, 5, 4, 1, 1, 1, 3, 3, 1, 5, 5, 5, 2, 0, 5, 3, 5, 2, 0, 0, 2, 0, 4, 0, 5, 3, 5, 4, 0, 5, 3, 5, 0, 2, 0, 3, 1, 0, 4, 3, 3, 1, 5, 5, 1, 3, 5, 0, 1, 1, 1, 1, 3, 3, 5, 0, 0, 4, 5, 4, 5, 1, 1, 2, 1, 0, 1, 2, 1, 4, 5, 1, 1, 1, 5, 1, 4, 0, 1, 4, 1, 3, 5, 5, 3, 2, 2, 2, 0, 5, 5, 4, 0, 4, 2, 1, 4, 4, 0, 5, 2, 0, 4, 0, 5, 4, 0, 3, 1, 1, 3, 3, 3, 0, 0, 5], -439.0)]\n",
            "[([369, 369, 469, 489, 489, 489, 389, 389, 489, 389, 369, 269, 169, 149, 169, 169, 69, 89, 189, 169, 69, 49, 49, 49, 49, 49, 49, 149, 169, 169, 189, 89, 69, 89, 189, 89, 89, 89, 89, 89, 89, 89, 89, 89, 89, 89, 89, 189, 169, 169, 189, 289, 389, 369, 469, 469, 469, 469, 489, 489, 469, 469, 489, 489, 489, 489, 489, 389, 369, 369, 389, 389, 389, 389, 369, 269, 249, 229, 209, 309, 409, 417, 317, 217, 237, 257, 277, 297, 197, 97], [4, 0, 2, 5, 5, 1, 4, 0, 1, 3, 1, 1, 3, 2, 5, 1, 2, 0, 3, 1, 3, 4, 5, 4, 4, 3, 0, 2, 5, 2, 1, 3, 2, 0, 1, 2, 1, 4, 5, 5, 4, 2, 4, 2, 2, 5, 0, 3, 4, 2, 0, 0, 3, 0, 4, 3, 4, 2, 0, 3, 0, 2, 2, 0, 0, 5, 1, 3, 4, 2, 4, 4, 5, 3, 1, 3, 3, 3, 0, 0, 4, 1, 1, 2, 2, 2, 2, 1, 1, 5], -285.0), ([129, 229, 209, 309, 409, 417, 317, 217, 237, 257, 277, 297, 197, 97], [0, 3, 0, 0, 4, 1, 1, 2, 2, 2, 2, 1, 1, 5], 7.0), ([106, 126, 106, 6, 6, 106, 6, 26, 26, 6, 26, 6, 26, 126, 26, 126, 106, 6, 6, 6, 26, 126, 226, 226, 206, 206, 206, 106, 106, 126, 226, 226, 226, 226, 226, 126, 106, 126, 126, 126, 106, 126, 106, 126, 26, 126, 126, 126, 126, 126, 226, 126, 126, 126, 226, 326, 326, 326, 346, 346, 346, 346, 446, 446, 446, 446, 346, 326, 326, 346, 326, 346, 326, 326, 326, 426, 426, 446, 446, 426, 426, 446, 446, 446, 346, 346, 346, 346, 346, 326, 226, 206, 226, 126, 126, 126, 126, 106, 106, 106, 106, 106, 206, 206, 206, 206, 206, 206, 206, 206, 306, 406, 306, 306, 306, 406, 406, 406, 306, 306, 306, 306, 306, 306, 306, 306, 306, 306, 306, 306, 306, 406, 406, 406, 406, 306, 406, 306, 306, 306, 306, 306, 306, 306, 306, 406, 306, 206, 206, 206, 106, 206, 226, 226, 126, 126, 126, 126, 106, 126, 106, 126, 26, 26, 26, 6, 26, 26, 126, 226, 226, 246, 266, 286, 286, 286, 286, 186, 186, 186, 166, 166, 66, 66, 66, 66, 66, 66, 46, 46, 46, 46, 66, 46, 46, 66, 86, 86, 86, 86], [2, 3, 1, 3, 0, 1, 2, 5, 3, 2, 3, 2, 0, 1, 0, 3, 1, 3, 5, 2, 0, 0, 5, 3, 4, 3, 1, 4, 2, 0, 5, 4, 5, 4, 1, 3, 2, 4, 2, 3, 2, 3, 2, 1, 0, 4, 2, 2, 5, 0, 1, 2, 5, 0, 0, 5, 3, 2, 5, 4, 5, 0, 4, 4, 0, 1, 3, 4, 2, 3, 2, 3, 4, 3, 0, 4, 2, 2, 3, 0, 2, 5, 0, 1, 5, 4, 4, 2, 3, 1, 3, 2, 1, 2, 5, 5, 3, 5, 5, 4, 5, 0, 4, 3, 3, 3, 5, 4, 4, 0, 0, 1, 4, 2, 0, 3, 5, 1, 3, 3, 3, 3, 3, 2, 5, 5, 3, 5, 3, 4, 0, 5, 5, 5, 1, 0, 1, 3, 3, 4, 2, 3, 3, 5, 0, 1, 1, 3, 5, 1, 0, 2, 5, 1, 5, 5, 5, 3, 2, 3, 2, 1, 2, 2, 3, 2, 1, 0, 0, 5, 2, 2, 2, 5, 5, 2, 1, 2, 5, 3, 4, 1, 1, 5, 4, 1, 4, 3, 5, 1, 5, 2, 3, 5, 2, 2, 1, 1, 5, 2], -776.0)]\n"
          ],
          "name": "stdout"
        }
      ]
    },
    {
      "cell_type": "markdown",
      "metadata": {
        "id": "Tg8qyygU3eav",
        "colab_type": "text"
      },
      "source": [
        "### Reflecting on results\n",
        "\n",
        "You may have noticed that the taxi problem quickly converges from less than -1000 to a near-optimal score and then descends back into -50/-100. This is in part because the environment has some innate randomness. Namely, the starting points of passenger/driver change from episode to episode.\n",
        "\n",
        "In case CEM failed to learn how to win from one distinct starting point, it will simply discard it because no sessions from that starting point will make it into the \"elites\".\n",
        "\n",
        "To mitigate that problem, you can either reduce the threshold for elite sessions (duct tape way) or change the way you evaluate strategy (theoretically correct way). For each starting state, you can sample an action randomly, and then evaluate this action by running _several_ games starting from it and averaging the total reward. Choosing elite sessions with this kind of sampling (where each session's reward is counted as the average of the rewards of all sessions with the same starting state and action) should improve the performance of your policy."
      ]
    },
    {
      "cell_type": "markdown",
      "metadata": {
        "id": "qj1zI9Ms3eav",
        "colab_type": "text"
      },
      "source": [
        "### Submit to coursera"
      ]
    },
    {
      "cell_type": "code",
      "metadata": {
        "id": "HoZ4ohuh3eav",
        "colab_type": "code",
        "colab": {
          "base_uri": "https://localhost:8080/",
          "height": 53
        },
        "outputId": "aac4403e-059d-4f29-8f69-fbb06f777d7c"
      },
      "source": [
        "from submit import submit_taxi\n",
        "submit_taxi(generate_session, policy, 'yangche@umich.edu', 'vp9NdeylvM0LaupI')"
      ],
      "execution_count": null,
      "outputs": [
        {
          "output_type": "stream",
          "text": [
            "Your average reward is -58.84 over 100 episodes\n",
            "Submitted to Coursera platform. See results on assignment page!\n"
          ],
          "name": "stdout"
        }
      ]
    }
  ]
}